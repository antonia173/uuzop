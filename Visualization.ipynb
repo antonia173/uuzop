{
 "cells": [
  {
   "cell_type": "code",
   "execution_count": 28,
   "id": "97a80d43",
   "metadata": {},
   "outputs": [],
   "source": [
    "import pandas as pd\n",
    "import matplotlib.pyplot as plt"
   ]
  },
  {
   "cell_type": "markdown",
   "id": "b1285ce0",
   "metadata": {},
   "source": [
    "# Ocjene studenata po ispitima"
   ]
  },
  {
   "cell_type": "code",
   "execution_count": 17,
   "id": "66e5a9aa",
   "metadata": {
    "scrolled": true
   },
   "outputs": [
    {
     "data": {
      "text/html": [
       "<div>\n",
       "<style scoped>\n",
       "    .dataframe tbody tr th:only-of-type {\n",
       "        vertical-align: middle;\n",
       "    }\n",
       "\n",
       "    .dataframe tbody tr th {\n",
       "        vertical-align: top;\n",
       "    }\n",
       "\n",
       "    .dataframe thead th {\n",
       "        text-align: right;\n",
       "    }\n",
       "</style>\n",
       "<table border=\"1\" class=\"dataframe\">\n",
       "  <thead>\n",
       "    <tr style=\"text-align: right;\">\n",
       "      <th></th>\n",
       "      <th>Midterm 1</th>\n",
       "      <th>Midterm 2</th>\n",
       "      <th>Final</th>\n",
       "    </tr>\n",
       "  </thead>\n",
       "  <tbody>\n",
       "    <tr>\n",
       "      <th>S1</th>\n",
       "      <td>78</td>\n",
       "      <td>82</td>\n",
       "      <td>182</td>\n",
       "    </tr>\n",
       "    <tr>\n",
       "      <th>S2</th>\n",
       "      <td>82</td>\n",
       "      <td>85</td>\n",
       "      <td>180</td>\n",
       "    </tr>\n",
       "    <tr>\n",
       "      <th>S3</th>\n",
       "      <td>77</td>\n",
       "      <td>90</td>\n",
       "      <td>188</td>\n",
       "    </tr>\n",
       "    <tr>\n",
       "      <th>S4</th>\n",
       "      <td>75</td>\n",
       "      <td>77</td>\n",
       "      <td>149</td>\n",
       "    </tr>\n",
       "    <tr>\n",
       "      <th>S5</th>\n",
       "      <td>67</td>\n",
       "      <td>77</td>\n",
       "      <td>157</td>\n",
       "    </tr>\n",
       "    <tr>\n",
       "      <th>S6</th>\n",
       "      <td>71</td>\n",
       "      <td>64</td>\n",
       "      <td>175</td>\n",
       "    </tr>\n",
       "    <tr>\n",
       "      <th>S7</th>\n",
       "      <td>64</td>\n",
       "      <td>33</td>\n",
       "      <td>110</td>\n",
       "    </tr>\n",
       "    <tr>\n",
       "      <th>S8</th>\n",
       "      <td>92</td>\n",
       "      <td>88</td>\n",
       "      <td>184</td>\n",
       "    </tr>\n",
       "    <tr>\n",
       "      <th>S9</th>\n",
       "      <td>80</td>\n",
       "      <td>39</td>\n",
       "      <td>126</td>\n",
       "    </tr>\n",
       "    <tr>\n",
       "      <th>S10</th>\n",
       "      <td>89</td>\n",
       "      <td>64</td>\n",
       "      <td>116</td>\n",
       "    </tr>\n",
       "  </tbody>\n",
       "</table>\n",
       "</div>"
      ],
      "text/plain": [
       "     Midterm 1  Midterm 2  Final\n",
       "S1          78         82    182\n",
       "S2          82         85    180\n",
       "S3          77         90    188\n",
       "S4          75         77    149\n",
       "S5          67         77    157\n",
       "S6          71         64    175\n",
       "S7          64         33    110\n",
       "S8          92         88    184\n",
       "S9          80         39    126\n",
       "S10         89         64    116"
      ]
     },
     "metadata": {},
     "output_type": "display_data"
    }
   ],
   "source": [
    "grades = pd.read_csv('Data/Student Grades.csv')\n",
    "grades.index = ['S1', 'S2', 'S3', 'S4', 'S5', 'S6', 'S7', 'S8', 'S9', 'S10']\n",
    "display(grades)"
   ]
  },
  {
   "cell_type": "code",
   "execution_count": 19,
   "id": "84cf0a89",
   "metadata": {},
   "outputs": [
    {
     "data": {
      "text/html": [
       "<div>\n",
       "<style scoped>\n",
       "    .dataframe tbody tr th:only-of-type {\n",
       "        vertical-align: middle;\n",
       "    }\n",
       "\n",
       "    .dataframe tbody tr th {\n",
       "        vertical-align: top;\n",
       "    }\n",
       "\n",
       "    .dataframe thead th {\n",
       "        text-align: right;\n",
       "    }\n",
       "</style>\n",
       "<table border=\"1\" class=\"dataframe\">\n",
       "  <thead>\n",
       "    <tr style=\"text-align: right;\">\n",
       "      <th></th>\n",
       "      <th>Midterm 1</th>\n",
       "      <th>Midterm 2</th>\n",
       "      <th>Final</th>\n",
       "    </tr>\n",
       "  </thead>\n",
       "  <tbody>\n",
       "    <tr>\n",
       "      <th>count</th>\n",
       "      <td>10.000000</td>\n",
       "      <td>10.000000</td>\n",
       "      <td>10.000000</td>\n",
       "    </tr>\n",
       "    <tr>\n",
       "      <th>mean</th>\n",
       "      <td>77.500000</td>\n",
       "      <td>69.900000</td>\n",
       "      <td>156.700000</td>\n",
       "    </tr>\n",
       "    <tr>\n",
       "      <th>std</th>\n",
       "      <td>8.885069</td>\n",
       "      <td>19.980268</td>\n",
       "      <td>29.966834</td>\n",
       "    </tr>\n",
       "    <tr>\n",
       "      <th>min</th>\n",
       "      <td>64.000000</td>\n",
       "      <td>33.000000</td>\n",
       "      <td>110.000000</td>\n",
       "    </tr>\n",
       "    <tr>\n",
       "      <th>25%</th>\n",
       "      <td>72.000000</td>\n",
       "      <td>64.000000</td>\n",
       "      <td>131.750000</td>\n",
       "    </tr>\n",
       "    <tr>\n",
       "      <th>50%</th>\n",
       "      <td>77.500000</td>\n",
       "      <td>77.000000</td>\n",
       "      <td>166.000000</td>\n",
       "    </tr>\n",
       "    <tr>\n",
       "      <th>75%</th>\n",
       "      <td>81.500000</td>\n",
       "      <td>84.250000</td>\n",
       "      <td>181.500000</td>\n",
       "    </tr>\n",
       "    <tr>\n",
       "      <th>max</th>\n",
       "      <td>92.000000</td>\n",
       "      <td>90.000000</td>\n",
       "      <td>188.000000</td>\n",
       "    </tr>\n",
       "  </tbody>\n",
       "</table>\n",
       "</div>"
      ],
      "text/plain": [
       "       Midterm 1  Midterm 2       Final\n",
       "count  10.000000  10.000000   10.000000\n",
       "mean   77.500000  69.900000  156.700000\n",
       "std     8.885069  19.980268   29.966834\n",
       "min    64.000000  33.000000  110.000000\n",
       "25%    72.000000  64.000000  131.750000\n",
       "50%    77.500000  77.000000  166.000000\n",
       "75%    81.500000  84.250000  181.500000\n",
       "max    92.000000  90.000000  188.000000"
      ]
     },
     "execution_count": 19,
     "metadata": {},
     "output_type": "execute_result"
    }
   ],
   "source": [
    "grades.describe()"
   ]
  },
  {
   "cell_type": "markdown",
   "id": "8b014c48",
   "metadata": {},
   "source": [
    "# Format tablica\n",
    "Prvi red je početno vrijeme mjerenja izraženo kao UNIX vremenska oznaka (1544027337 = 05.12.2018. 16:29:07).\n",
    "Drugi red je brzina uzorkovanja izražena u Hz."
   ]
  },
  {
   "cell_type": "markdown",
   "id": "125e46d9",
   "metadata": {},
   "source": [
    "# 3-osni senzor akcelerometra\n",
    "Akcelerometar mjeri ubrzanje u rasponu [-2g, 2g]. Jedinica u ovoj tablici je 1/64g. Podaci x, y i z osi su u prvom, drugom i trećem stupcu."
   ]
  },
  {
   "cell_type": "code",
   "execution_count": 320,
   "id": "80db6547",
   "metadata": {},
   "outputs": [
    {
     "name": "stdout",
     "output_type": "stream",
     "text": [
      "Brzina uzorkovanja: 32.0 Hz\n"
     ]
    }
   ],
   "source": [
    "acc = pd.read_csv('Data/S1/Final/ACC.csv')\n",
    "acc.columns = ['x', 'y', 'z']\n",
    "frequencyACC = acc._get_value(0, \"x\")\n",
    "print(\"Brzina uzorkovanja: %.1f Hz\" % (frequencyACC))"
   ]
  },
  {
   "cell_type": "code",
   "execution_count": 237,
   "id": "93004866",
   "metadata": {},
   "outputs": [
    {
     "data": {
      "text/html": [
       "<div>\n",
       "<style scoped>\n",
       "    .dataframe tbody tr th:only-of-type {\n",
       "        vertical-align: middle;\n",
       "    }\n",
       "\n",
       "    .dataframe tbody tr th {\n",
       "        vertical-align: top;\n",
       "    }\n",
       "\n",
       "    .dataframe thead th {\n",
       "        text-align: right;\n",
       "    }\n",
       "</style>\n",
       "<table border=\"1\" class=\"dataframe\">\n",
       "  <thead>\n",
       "    <tr style=\"text-align: right;\">\n",
       "      <th></th>\n",
       "      <th>x</th>\n",
       "      <th>y</th>\n",
       "      <th>z</th>\n",
       "    </tr>\n",
       "  </thead>\n",
       "  <tbody>\n",
       "    <tr>\n",
       "      <th>1</th>\n",
       "      <td>-3.0</td>\n",
       "      <td>65.0</td>\n",
       "      <td>6.0</td>\n",
       "    </tr>\n",
       "    <tr>\n",
       "      <th>2</th>\n",
       "      <td>-3.0</td>\n",
       "      <td>65.0</td>\n",
       "      <td>6.0</td>\n",
       "    </tr>\n",
       "    <tr>\n",
       "      <th>3</th>\n",
       "      <td>-3.0</td>\n",
       "      <td>65.0</td>\n",
       "      <td>6.0</td>\n",
       "    </tr>\n",
       "    <tr>\n",
       "      <th>4</th>\n",
       "      <td>-3.0</td>\n",
       "      <td>65.0</td>\n",
       "      <td>6.0</td>\n",
       "    </tr>\n",
       "    <tr>\n",
       "      <th>5</th>\n",
       "      <td>-3.0</td>\n",
       "      <td>65.0</td>\n",
       "      <td>6.0</td>\n",
       "    </tr>\n",
       "  </tbody>\n",
       "</table>\n",
       "</div>"
      ],
      "text/plain": [
       "     x     y    z\n",
       "1 -3.0  65.0  6.0\n",
       "2 -3.0  65.0  6.0\n",
       "3 -3.0  65.0  6.0\n",
       "4 -3.0  65.0  6.0\n",
       "5 -3.0  65.0  6.0"
      ]
     },
     "execution_count": 237,
     "metadata": {},
     "output_type": "execute_result"
    }
   ],
   "source": [
    "acc = acc.drop(0)\n",
    "acc.head()"
   ]
  },
  {
   "cell_type": "code",
   "execution_count": 238,
   "id": "0b140ea8",
   "metadata": {},
   "outputs": [
    {
     "data": {
      "text/plain": [
       "(748686, 3)"
      ]
     },
     "execution_count": 238,
     "metadata": {},
     "output_type": "execute_result"
    }
   ],
   "source": [
    "acc.shape"
   ]
  },
  {
   "cell_type": "code",
   "execution_count": 239,
   "id": "9eb845bf",
   "metadata": {},
   "outputs": [
    {
     "name": "stdout",
     "output_type": "stream",
     "text": [
      "<class 'pandas.core.frame.DataFrame'>\n",
      "RangeIndex: 748686 entries, 1 to 748686\n",
      "Data columns (total 3 columns):\n",
      " #   Column  Non-Null Count   Dtype  \n",
      "---  ------  --------------   -----  \n",
      " 0   x       748686 non-null  float64\n",
      " 1   y       748686 non-null  float64\n",
      " 2   z       748686 non-null  float64\n",
      "dtypes: float64(3)\n",
      "memory usage: 17.1 MB\n"
     ]
    }
   ],
   "source": [
    "acc.info()"
   ]
  },
  {
   "cell_type": "code",
   "execution_count": 240,
   "id": "81daf725",
   "metadata": {},
   "outputs": [
    {
     "data": {
      "text/html": [
       "<div>\n",
       "<style scoped>\n",
       "    .dataframe tbody tr th:only-of-type {\n",
       "        vertical-align: middle;\n",
       "    }\n",
       "\n",
       "    .dataframe tbody tr th {\n",
       "        vertical-align: top;\n",
       "    }\n",
       "\n",
       "    .dataframe thead th {\n",
       "        text-align: right;\n",
       "    }\n",
       "</style>\n",
       "<table border=\"1\" class=\"dataframe\">\n",
       "  <thead>\n",
       "    <tr style=\"text-align: right;\">\n",
       "      <th></th>\n",
       "      <th>x</th>\n",
       "      <th>y</th>\n",
       "      <th>z</th>\n",
       "    </tr>\n",
       "  </thead>\n",
       "  <tbody>\n",
       "    <tr>\n",
       "      <th>count</th>\n",
       "      <td>748686.000000</td>\n",
       "      <td>748686.000000</td>\n",
       "      <td>748686.000000</td>\n",
       "    </tr>\n",
       "    <tr>\n",
       "      <th>mean</th>\n",
       "      <td>-15.147696</td>\n",
       "      <td>-2.671894</td>\n",
       "      <td>0.865034</td>\n",
       "    </tr>\n",
       "    <tr>\n",
       "      <th>std</th>\n",
       "      <td>33.683219</td>\n",
       "      <td>30.311671</td>\n",
       "      <td>42.862523</td>\n",
       "    </tr>\n",
       "    <tr>\n",
       "      <th>min</th>\n",
       "      <td>-128.000000</td>\n",
       "      <td>-128.000000</td>\n",
       "      <td>-128.000000</td>\n",
       "    </tr>\n",
       "    <tr>\n",
       "      <th>25%</th>\n",
       "      <td>-42.000000</td>\n",
       "      <td>-9.000000</td>\n",
       "      <td>-32.000000</td>\n",
       "    </tr>\n",
       "    <tr>\n",
       "      <th>50%</th>\n",
       "      <td>-7.000000</td>\n",
       "      <td>1.000000</td>\n",
       "      <td>-1.000000</td>\n",
       "    </tr>\n",
       "    <tr>\n",
       "      <th>75%</th>\n",
       "      <td>0.000000</td>\n",
       "      <td>6.000000</td>\n",
       "      <td>40.000000</td>\n",
       "    </tr>\n",
       "    <tr>\n",
       "      <th>max</th>\n",
       "      <td>127.000000</td>\n",
       "      <td>127.000000</td>\n",
       "      <td>127.000000</td>\n",
       "    </tr>\n",
       "  </tbody>\n",
       "</table>\n",
       "</div>"
      ],
      "text/plain": [
       "                   x              y              z\n",
       "count  748686.000000  748686.000000  748686.000000\n",
       "mean      -15.147696      -2.671894       0.865034\n",
       "std        33.683219      30.311671      42.862523\n",
       "min      -128.000000    -128.000000    -128.000000\n",
       "25%       -42.000000      -9.000000     -32.000000\n",
       "50%        -7.000000       1.000000      -1.000000\n",
       "75%         0.000000       6.000000      40.000000\n",
       "max       127.000000     127.000000     127.000000"
      ]
     },
     "execution_count": 240,
     "metadata": {},
     "output_type": "execute_result"
    }
   ],
   "source": [
    "acc.describe()"
   ]
  },
  {
   "cell_type": "markdown",
   "id": "516db814",
   "metadata": {},
   "source": [
    "# Fotopletizmogram"
   ]
  },
  {
   "cell_type": "markdown",
   "id": "93e53a01",
   "metadata": {},
   "source": [
    "Fotopletizmogram mjeri promjene volumena krvi u mikrovaskularnom sloju tkiva."
   ]
  },
  {
   "cell_type": "code",
   "execution_count": 305,
   "id": "43371704",
   "metadata": {},
   "outputs": [
    {
     "name": "stdout",
     "output_type": "stream",
     "text": [
      "Brzina uzorkovanja: 64.0 Hz\n"
     ]
    }
   ],
   "source": [
    "bvp = pd.read_csv('Data/S1/Final/BVP.csv') \n",
    "bvp.columns = [\"Blood volume pulse\"]\n",
    "frequencyBVP = bvp._get_value(0, \"Blood volume pulse\")\n",
    "print(\"Brzina uzorkovanja: %.1f Hz\" % (frequencyBVP))"
   ]
  },
  {
   "cell_type": "code",
   "execution_count": 306,
   "id": "80608a4b",
   "metadata": {},
   "outputs": [
    {
     "data": {
      "text/html": [
       "<div>\n",
       "<style scoped>\n",
       "    .dataframe tbody tr th:only-of-type {\n",
       "        vertical-align: middle;\n",
       "    }\n",
       "\n",
       "    .dataframe tbody tr th {\n",
       "        vertical-align: top;\n",
       "    }\n",
       "\n",
       "    .dataframe thead th {\n",
       "        text-align: right;\n",
       "    }\n",
       "</style>\n",
       "<table border=\"1\" class=\"dataframe\">\n",
       "  <thead>\n",
       "    <tr style=\"text-align: right;\">\n",
       "      <th></th>\n",
       "      <th>Blood volume pulse</th>\n",
       "    </tr>\n",
       "  </thead>\n",
       "  <tbody>\n",
       "    <tr>\n",
       "      <th>1</th>\n",
       "      <td>-0.0</td>\n",
       "    </tr>\n",
       "    <tr>\n",
       "      <th>2</th>\n",
       "      <td>-0.0</td>\n",
       "    </tr>\n",
       "    <tr>\n",
       "      <th>3</th>\n",
       "      <td>-0.0</td>\n",
       "    </tr>\n",
       "    <tr>\n",
       "      <th>4</th>\n",
       "      <td>-0.0</td>\n",
       "    </tr>\n",
       "    <tr>\n",
       "      <th>5</th>\n",
       "      <td>-0.0</td>\n",
       "    </tr>\n",
       "  </tbody>\n",
       "</table>\n",
       "</div>"
      ],
      "text/plain": [
       "   Blood volume pulse\n",
       "1                -0.0\n",
       "2                -0.0\n",
       "3                -0.0\n",
       "4                -0.0\n",
       "5                -0.0"
      ]
     },
     "execution_count": 306,
     "metadata": {},
     "output_type": "execute_result"
    }
   ],
   "source": [
    "bvp = bvp.drop(0)\n",
    "bvp.head()"
   ]
  },
  {
   "cell_type": "code",
   "execution_count": 308,
   "id": "5004a112",
   "metadata": {},
   "outputs": [
    {
     "data": {
      "text/plain": [
       "(1497375, 1)"
      ]
     },
     "execution_count": 308,
     "metadata": {},
     "output_type": "execute_result"
    }
   ],
   "source": [
    "bvp.shape"
   ]
  },
  {
   "cell_type": "code",
   "execution_count": 309,
   "id": "a21cfcbb",
   "metadata": {},
   "outputs": [
    {
     "name": "stdout",
     "output_type": "stream",
     "text": [
      "<class 'pandas.core.frame.DataFrame'>\n",
      "RangeIndex: 1497375 entries, 1 to 1497375\n",
      "Data columns (total 1 columns):\n",
      " #   Column              Non-Null Count    Dtype  \n",
      "---  ------              --------------    -----  \n",
      " 0   Blood volume pulse  1497375 non-null  float64\n",
      "dtypes: float64(1)\n",
      "memory usage: 11.4 MB\n"
     ]
    }
   ],
   "source": [
    "bvp.info()"
   ]
  },
  {
   "cell_type": "code",
   "execution_count": 310,
   "id": "31d4013e",
   "metadata": {},
   "outputs": [
    {
     "data": {
      "text/html": [
       "<div>\n",
       "<style scoped>\n",
       "    .dataframe tbody tr th:only-of-type {\n",
       "        vertical-align: middle;\n",
       "    }\n",
       "\n",
       "    .dataframe tbody tr th {\n",
       "        vertical-align: top;\n",
       "    }\n",
       "\n",
       "    .dataframe thead th {\n",
       "        text-align: right;\n",
       "    }\n",
       "</style>\n",
       "<table border=\"1\" class=\"dataframe\">\n",
       "  <thead>\n",
       "    <tr style=\"text-align: right;\">\n",
       "      <th></th>\n",
       "      <th>Blood volume pulse</th>\n",
       "    </tr>\n",
       "  </thead>\n",
       "  <tbody>\n",
       "    <tr>\n",
       "      <th>count</th>\n",
       "      <td>1.497375e+06</td>\n",
       "    </tr>\n",
       "    <tr>\n",
       "      <th>mean</th>\n",
       "      <td>2.804909e-04</td>\n",
       "    </tr>\n",
       "    <tr>\n",
       "      <th>std</th>\n",
       "      <td>4.479241e+01</td>\n",
       "    </tr>\n",
       "    <tr>\n",
       "      <th>min</th>\n",
       "      <td>-1.631490e+03</td>\n",
       "    </tr>\n",
       "    <tr>\n",
       "      <th>25%</th>\n",
       "      <td>-3.470000e+00</td>\n",
       "    </tr>\n",
       "    <tr>\n",
       "      <th>50%</th>\n",
       "      <td>2.000000e-02</td>\n",
       "    </tr>\n",
       "    <tr>\n",
       "      <th>75%</th>\n",
       "      <td>3.350000e+00</td>\n",
       "    </tr>\n",
       "    <tr>\n",
       "      <th>max</th>\n",
       "      <td>2.659680e+03</td>\n",
       "    </tr>\n",
       "  </tbody>\n",
       "</table>\n",
       "</div>"
      ],
      "text/plain": [
       "       Blood volume pulse\n",
       "count        1.497375e+06\n",
       "mean         2.804909e-04\n",
       "std          4.479241e+01\n",
       "min         -1.631490e+03\n",
       "25%         -3.470000e+00\n",
       "50%          2.000000e-02\n",
       "75%          3.350000e+00\n",
       "max          2.659680e+03"
      ]
     },
     "execution_count": 310,
     "metadata": {},
     "output_type": "execute_result"
    }
   ],
   "source": [
    "bvp.describe()"
   ]
  },
  {
   "cell_type": "markdown",
   "id": "70b408f4",
   "metadata": {},
   "source": [
    "# Senzor elektrodermalne aktivnosti (mikrosiemens [qS])"
   ]
  },
  {
   "cell_type": "code",
   "execution_count": 264,
   "id": "698305d4",
   "metadata": {},
   "outputs": [
    {
     "name": "stdout",
     "output_type": "stream",
     "text": [
      "Brzina uzorkovanja: 4.0 Hz\n"
     ]
    }
   ],
   "source": [
    "eda = pd.read_csv('Data/S1/Final/EDA.csv') \n",
    "eda.columns = [\"Electrodermal activity[qS]\"]\n",
    "frequencyEDA = eda._get_value(0, \"Electrodermal activity[qS]\")\n",
    "print(\"Brzina uzorkovanja: %.1f Hz\" % (frequencyEDA))"
   ]
  },
  {
   "cell_type": "code",
   "execution_count": 265,
   "id": "57ea3779",
   "metadata": {},
   "outputs": [
    {
     "data": {
      "text/html": [
       "<div>\n",
       "<style scoped>\n",
       "    .dataframe tbody tr th:only-of-type {\n",
       "        vertical-align: middle;\n",
       "    }\n",
       "\n",
       "    .dataframe tbody tr th {\n",
       "        vertical-align: top;\n",
       "    }\n",
       "\n",
       "    .dataframe thead th {\n",
       "        text-align: right;\n",
       "    }\n",
       "</style>\n",
       "<table border=\"1\" class=\"dataframe\">\n",
       "  <thead>\n",
       "    <tr style=\"text-align: right;\">\n",
       "      <th></th>\n",
       "      <th>Electrodermal activity[qS]</th>\n",
       "    </tr>\n",
       "  </thead>\n",
       "  <tbody>\n",
       "    <tr>\n",
       "      <th>1</th>\n",
       "      <td>0.000000</td>\n",
       "    </tr>\n",
       "    <tr>\n",
       "      <th>2</th>\n",
       "      <td>0.005125</td>\n",
       "    </tr>\n",
       "    <tr>\n",
       "      <th>3</th>\n",
       "      <td>0.020501</td>\n",
       "    </tr>\n",
       "    <tr>\n",
       "      <th>4</th>\n",
       "      <td>0.021783</td>\n",
       "    </tr>\n",
       "    <tr>\n",
       "      <th>5</th>\n",
       "      <td>0.023064</td>\n",
       "    </tr>\n",
       "  </tbody>\n",
       "</table>\n",
       "</div>"
      ],
      "text/plain": [
       "   Electrodermal activity[qS]\n",
       "1                    0.000000\n",
       "2                    0.005125\n",
       "3                    0.020501\n",
       "4                    0.021783\n",
       "5                    0.023064"
      ]
     },
     "execution_count": 265,
     "metadata": {},
     "output_type": "execute_result"
    }
   ],
   "source": [
    "eda = eda.drop(0)\n",
    "eda.head()"
   ]
  },
  {
   "cell_type": "code",
   "execution_count": 266,
   "id": "6bfbda9d",
   "metadata": {},
   "outputs": [
    {
     "data": {
      "text/plain": [
       "(93582, 1)"
      ]
     },
     "execution_count": 266,
     "metadata": {},
     "output_type": "execute_result"
    }
   ],
   "source": [
    "eda.shape"
   ]
  },
  {
   "cell_type": "code",
   "execution_count": 267,
   "id": "99f6c74d",
   "metadata": {},
   "outputs": [
    {
     "name": "stdout",
     "output_type": "stream",
     "text": [
      "<class 'pandas.core.frame.DataFrame'>\n",
      "RangeIndex: 93582 entries, 1 to 93582\n",
      "Data columns (total 1 columns):\n",
      " #   Column                      Non-Null Count  Dtype  \n",
      "---  ------                      --------------  -----  \n",
      " 0   Electrodermal activity[qS]  93582 non-null  float64\n",
      "dtypes: float64(1)\n",
      "memory usage: 731.2 KB\n"
     ]
    }
   ],
   "source": [
    "eda.info()"
   ]
  },
  {
   "cell_type": "code",
   "execution_count": 268,
   "id": "31e9fb50",
   "metadata": {},
   "outputs": [
    {
     "data": {
      "text/html": [
       "<div>\n",
       "<style scoped>\n",
       "    .dataframe tbody tr th:only-of-type {\n",
       "        vertical-align: middle;\n",
       "    }\n",
       "\n",
       "    .dataframe tbody tr th {\n",
       "        vertical-align: top;\n",
       "    }\n",
       "\n",
       "    .dataframe thead th {\n",
       "        text-align: right;\n",
       "    }\n",
       "</style>\n",
       "<table border=\"1\" class=\"dataframe\">\n",
       "  <thead>\n",
       "    <tr style=\"text-align: right;\">\n",
       "      <th></th>\n",
       "      <th>Electrodermal activity[qS]</th>\n",
       "    </tr>\n",
       "  </thead>\n",
       "  <tbody>\n",
       "    <tr>\n",
       "      <th>count</th>\n",
       "      <td>93582.000000</td>\n",
       "    </tr>\n",
       "    <tr>\n",
       "      <th>mean</th>\n",
       "      <td>0.102925</td>\n",
       "    </tr>\n",
       "    <tr>\n",
       "      <th>std</th>\n",
       "      <td>0.083391</td>\n",
       "    </tr>\n",
       "    <tr>\n",
       "      <th>min</th>\n",
       "      <td>0.000000</td>\n",
       "    </tr>\n",
       "    <tr>\n",
       "      <th>25%</th>\n",
       "      <td>0.025627</td>\n",
       "    </tr>\n",
       "    <tr>\n",
       "      <th>50%</th>\n",
       "      <td>0.028189</td>\n",
       "    </tr>\n",
       "    <tr>\n",
       "      <th>75%</th>\n",
       "      <td>0.189637</td>\n",
       "    </tr>\n",
       "    <tr>\n",
       "      <th>max</th>\n",
       "      <td>0.440778</td>\n",
       "    </tr>\n",
       "  </tbody>\n",
       "</table>\n",
       "</div>"
      ],
      "text/plain": [
       "       Electrodermal activity[qS]\n",
       "count                93582.000000\n",
       "mean                     0.102925\n",
       "std                      0.083391\n",
       "min                      0.000000\n",
       "25%                      0.025627\n",
       "50%                      0.028189\n",
       "75%                      0.189637\n",
       "max                      0.440778"
      ]
     },
     "execution_count": 268,
     "metadata": {},
     "output_type": "execute_result"
    }
   ],
   "source": [
    "eda.describe()"
   ]
  },
  {
   "cell_type": "markdown",
   "id": "9a20ce75",
   "metadata": {},
   "source": [
    "Pomoću linijskog grafa uočavamo kako elektodermalna aktivnost ovog studenta veća je napočetku ispita."
   ]
  },
  {
   "cell_type": "code",
   "execution_count": 270,
   "id": "25066ffd",
   "metadata": {},
   "outputs": [
    {
     "data": {
      "image/png": "[encoded data removed]",
      "text/plain": [
       "<Figure size 640x480 with 1 Axes>"
      ]
     },
     "metadata": {},
     "output_type": "display_data"
    }
   ],
   "source": [
    "plt.plot([x for x in range(len(eda))], eda)\n",
    "plt.xlabel('Time')\n",
    "plt.ylabel('Electrodermal activity[qS]')\n",
    "plt.show()"
   ]
  },
  {
   "cell_type": "code",
   "execution_count": 312,
   "id": "eca708d9",
   "metadata": {},
   "outputs": [
    {
     "data": {
      "image/png": "[encoded data removed]",
      "text/plain": [
       "<Figure size 640x480 with 1 Axes>"
      ]
     },
     "metadata": {},
     "output_type": "display_data"
    }
   ],
   "source": [
    "plt.boxplot(eda)\n",
    "plt.ylabel('Electrodermal activity[qS]')\n",
    "plt.show()"
   ]
  },
  {
   "cell_type": "code",
   "execution_count": 373,
   "id": "5217aab7",
   "metadata": {},
   "outputs": [
    {
     "name": "stdout",
     "output_type": "stream",
     "text": [
      "eda > 0.4:  1\n"
     ]
    },
    {
     "data": {
      "text/plain": [
       "33506    0.440778\n",
       "Name: Electrodermal activity[qS], dtype: float64"
      ]
     },
     "execution_count": 373,
     "metadata": {},
     "output_type": "execute_result"
    }
   ],
   "source": [
    "print('eda > 0.4: ', (eda['Electrodermal activity[qS]'] > 0.4).sum())\n",
    "eda.loc[eda['Electrodermal activity[qS]'] > 0.4, 'Electrodermal activity[qS]']"
   ]
  },
  {
   "cell_type": "markdown",
   "id": "61477c56",
   "metadata": {},
   "source": [
    "# Prosječni broj otkucaja srca\n",
    "Izražen iz BVP signala."
   ]
  },
  {
   "cell_type": "code",
   "execution_count": 313,
   "id": "e957df4d",
   "metadata": {},
   "outputs": [
    {
     "name": "stdout",
     "output_type": "stream",
     "text": [
      "Brzina uzorkovanja: 1.0 Hz\n"
     ]
    }
   ],
   "source": [
    "hr = pd.read_csv('Data/S1/Final/HR.csv') \n",
    "hr.columns = [\"Average heart rate\"]\n",
    "frequencyHR = hr._get_value(0, \"Average heart rate\")\n",
    "print(\"Brzina uzorkovanja: %.1f Hz\" % (frequencyHR))"
   ]
  },
  {
   "cell_type": "code",
   "execution_count": 272,
   "id": "39e35087",
   "metadata": {},
   "outputs": [
    {
     "data": {
      "text/html": [
       "<div>\n",
       "<style scoped>\n",
       "    .dataframe tbody tr th:only-of-type {\n",
       "        vertical-align: middle;\n",
       "    }\n",
       "\n",
       "    .dataframe tbody tr th {\n",
       "        vertical-align: top;\n",
       "    }\n",
       "\n",
       "    .dataframe thead th {\n",
       "        text-align: right;\n",
       "    }\n",
       "</style>\n",
       "<table border=\"1\" class=\"dataframe\">\n",
       "  <thead>\n",
       "    <tr style=\"text-align: right;\">\n",
       "      <th></th>\n",
       "      <th>Average heart rate</th>\n",
       "    </tr>\n",
       "  </thead>\n",
       "  <tbody>\n",
       "    <tr>\n",
       "      <th>1</th>\n",
       "      <td>116.00</td>\n",
       "    </tr>\n",
       "    <tr>\n",
       "      <th>2</th>\n",
       "      <td>82.50</td>\n",
       "    </tr>\n",
       "    <tr>\n",
       "      <th>3</th>\n",
       "      <td>96.33</td>\n",
       "    </tr>\n",
       "    <tr>\n",
       "      <th>4</th>\n",
       "      <td>86.25</td>\n",
       "    </tr>\n",
       "    <tr>\n",
       "      <th>5</th>\n",
       "      <td>98.60</td>\n",
       "    </tr>\n",
       "  </tbody>\n",
       "</table>\n",
       "</div>"
      ],
      "text/plain": [
       "   Average heart rate\n",
       "1              116.00\n",
       "2               82.50\n",
       "3               96.33\n",
       "4               86.25\n",
       "5               98.60"
      ]
     },
     "execution_count": 272,
     "metadata": {},
     "output_type": "execute_result"
    }
   ],
   "source": [
    "hr = hr.drop(0)\n",
    "hr.head()"
   ]
  },
  {
   "cell_type": "code",
   "execution_count": 273,
   "id": "f73f1a83",
   "metadata": {},
   "outputs": [
    {
     "data": {
      "text/plain": [
       "(23387, 1)"
      ]
     },
     "execution_count": 273,
     "metadata": {},
     "output_type": "execute_result"
    }
   ],
   "source": [
    "hr.shape"
   ]
  },
  {
   "cell_type": "code",
   "execution_count": 274,
   "id": "01fbe928",
   "metadata": {},
   "outputs": [
    {
     "name": "stdout",
     "output_type": "stream",
     "text": [
      "<class 'pandas.core.frame.DataFrame'>\n",
      "RangeIndex: 23387 entries, 1 to 23387\n",
      "Data columns (total 1 columns):\n",
      " #   Column              Non-Null Count  Dtype  \n",
      "---  ------              --------------  -----  \n",
      " 0   Average heart rate  23387 non-null  float64\n",
      "dtypes: float64(1)\n",
      "memory usage: 182.8 KB\n"
     ]
    }
   ],
   "source": [
    "hr.info()"
   ]
  },
  {
   "cell_type": "code",
   "execution_count": 275,
   "id": "c026b736",
   "metadata": {},
   "outputs": [
    {
     "data": {
      "text/html": [
       "<div>\n",
       "<style scoped>\n",
       "    .dataframe tbody tr th:only-of-type {\n",
       "        vertical-align: middle;\n",
       "    }\n",
       "\n",
       "    .dataframe tbody tr th {\n",
       "        vertical-align: top;\n",
       "    }\n",
       "\n",
       "    .dataframe thead th {\n",
       "        text-align: right;\n",
       "    }\n",
       "</style>\n",
       "<table border=\"1\" class=\"dataframe\">\n",
       "  <thead>\n",
       "    <tr style=\"text-align: right;\">\n",
       "      <th></th>\n",
       "      <th>Average heart rate</th>\n",
       "    </tr>\n",
       "  </thead>\n",
       "  <tbody>\n",
       "    <tr>\n",
       "      <th>count</th>\n",
       "      <td>23387.000000</td>\n",
       "    </tr>\n",
       "    <tr>\n",
       "      <th>mean</th>\n",
       "      <td>106.121509</td>\n",
       "    </tr>\n",
       "    <tr>\n",
       "      <th>std</th>\n",
       "      <td>18.716789</td>\n",
       "    </tr>\n",
       "    <tr>\n",
       "      <th>min</th>\n",
       "      <td>62.280000</td>\n",
       "    </tr>\n",
       "    <tr>\n",
       "      <th>25%</th>\n",
       "      <td>91.170000</td>\n",
       "    </tr>\n",
       "    <tr>\n",
       "      <th>50%</th>\n",
       "      <td>108.280000</td>\n",
       "    </tr>\n",
       "    <tr>\n",
       "      <th>75%</th>\n",
       "      <td>118.550000</td>\n",
       "    </tr>\n",
       "    <tr>\n",
       "      <th>max</th>\n",
       "      <td>174.850000</td>\n",
       "    </tr>\n",
       "  </tbody>\n",
       "</table>\n",
       "</div>"
      ],
      "text/plain": [
       "       Average heart rate\n",
       "count        23387.000000\n",
       "mean           106.121509\n",
       "std             18.716789\n",
       "min             62.280000\n",
       "25%             91.170000\n",
       "50%            108.280000\n",
       "75%            118.550000\n",
       "max            174.850000"
      ]
     },
     "execution_count": 275,
     "metadata": {},
     "output_type": "execute_result"
    }
   ],
   "source": [
    "hr.describe()"
   ]
  },
  {
   "cell_type": "markdown",
   "id": "3201325b",
   "metadata": {},
   "source": [
    "Pomoću linijskog grafa uočavamo kako prosjećni broj otkucaja srca raste pri kraju ispita."
   ]
  },
  {
   "cell_type": "code",
   "execution_count": 276,
   "id": "330cbb8b",
   "metadata": {},
   "outputs": [
    {
     "data": {
      "image/png": "[encoded data removed]",
      "text/plain": [
       "<Figure size 640x480 with 1 Axes>"
      ]
     },
     "metadata": {},
     "output_type": "display_data"
    }
   ],
   "source": [
    "plt.plot([x for x in range(len(hr))], hr)\n",
    "plt.xlabel('Time')\n",
    "plt.ylabel('Average heart rate')\n",
    "plt.show()"
   ]
  },
  {
   "cell_type": "markdown",
   "id": "4653b359",
   "metadata": {},
   "source": [
    "# Vrijeme između pojedinačnih otkucaja srca\n",
    "Izraženo iz BVP signala.\n",
    "Prvi stupac je vrijeme (u odnosu na početno vrijeme) otkrivenog otkucaja izraženog u sekundama.\n",
    "Drugi stupac predstavlja trajanje odtkucaja.\n",
    "Za ovu tablicu nije potrebna brzina uzorkovanja."
   ]
  },
  {
   "cell_type": "code",
   "execution_count": 332,
   "id": "b04493ec",
   "metadata": {},
   "outputs": [
    {
     "data": {
      "text/html": [
       "<div>\n",
       "<style scoped>\n",
       "    .dataframe tbody tr th:only-of-type {\n",
       "        vertical-align: middle;\n",
       "    }\n",
       "\n",
       "    .dataframe tbody tr th {\n",
       "        vertical-align: top;\n",
       "    }\n",
       "\n",
       "    .dataframe thead th {\n",
       "        text-align: right;\n",
       "    }\n",
       "</style>\n",
       "<table border=\"1\" class=\"dataframe\">\n",
       "  <thead>\n",
       "    <tr style=\"text-align: right;\">\n",
       "      <th></th>\n",
       "      <th>Time</th>\n",
       "      <th>Interbeat interval</th>\n",
       "    </tr>\n",
       "  </thead>\n",
       "  <tbody>\n",
       "    <tr>\n",
       "      <th>1</th>\n",
       "      <td>85.347657</td>\n",
       "      <td>0.500023</td>\n",
       "    </tr>\n",
       "    <tr>\n",
       "      <th>2</th>\n",
       "      <td>85.722674</td>\n",
       "      <td>0.375017</td>\n",
       "    </tr>\n",
       "    <tr>\n",
       "      <th>3</th>\n",
       "      <td>107.754932</td>\n",
       "      <td>0.437520</td>\n",
       "    </tr>\n",
       "    <tr>\n",
       "      <th>4</th>\n",
       "      <td>108.223704</td>\n",
       "      <td>0.468771</td>\n",
       "    </tr>\n",
       "    <tr>\n",
       "      <th>5</th>\n",
       "      <td>108.645598</td>\n",
       "      <td>0.421894</td>\n",
       "    </tr>\n",
       "  </tbody>\n",
       "</table>\n",
       "</div>"
      ],
      "text/plain": [
       "         Time  Interbeat interval\n",
       "1   85.347657            0.500023\n",
       "2   85.722674            0.375017\n",
       "3  107.754932            0.437520\n",
       "4  108.223704            0.468771\n",
       "5  108.645598            0.421894"
      ]
     },
     "execution_count": 332,
     "metadata": {},
     "output_type": "execute_result"
    }
   ],
   "source": [
    "ibi = pd.read_csv('Data/S1/Final/IBI.csv') \n",
    "ibi.columns = ['Time', 'Interbeat interval']\n",
    "ibi = ibi.drop(0)\n",
    "ibi.head()"
   ]
  },
  {
   "cell_type": "code",
   "execution_count": 333,
   "id": "277d97c6",
   "metadata": {},
   "outputs": [
    {
     "data": {
      "text/plain": [
       "(2167, 2)"
      ]
     },
     "execution_count": 333,
     "metadata": {},
     "output_type": "execute_result"
    }
   ],
   "source": [
    "ibi.shape"
   ]
  },
  {
   "cell_type": "code",
   "execution_count": 334,
   "id": "2d09c544",
   "metadata": {},
   "outputs": [
    {
     "name": "stdout",
     "output_type": "stream",
     "text": [
      "<class 'pandas.core.frame.DataFrame'>\n",
      "RangeIndex: 2167 entries, 1 to 2167\n",
      "Data columns (total 2 columns):\n",
      " #   Column              Non-Null Count  Dtype  \n",
      "---  ------              --------------  -----  \n",
      " 0   Time                2167 non-null   float64\n",
      " 1   Interbeat interval  2167 non-null   float64\n",
      "dtypes: float64(2)\n",
      "memory usage: 34.0 KB\n"
     ]
    }
   ],
   "source": [
    "ibi.info()"
   ]
  },
  {
   "cell_type": "code",
   "execution_count": 335,
   "id": "c79e0de2",
   "metadata": {},
   "outputs": [
    {
     "data": {
      "text/html": [
       "<div>\n",
       "<style scoped>\n",
       "    .dataframe tbody tr th:only-of-type {\n",
       "        vertical-align: middle;\n",
       "    }\n",
       "\n",
       "    .dataframe tbody tr th {\n",
       "        vertical-align: top;\n",
       "    }\n",
       "\n",
       "    .dataframe thead th {\n",
       "        text-align: right;\n",
       "    }\n",
       "</style>\n",
       "<table border=\"1\" class=\"dataframe\">\n",
       "  <thead>\n",
       "    <tr style=\"text-align: right;\">\n",
       "      <th></th>\n",
       "      <th>Time</th>\n",
       "      <th>Interbeat interval</th>\n",
       "    </tr>\n",
       "  </thead>\n",
       "  <tbody>\n",
       "    <tr>\n",
       "      <th>count</th>\n",
       "      <td>2167.000000</td>\n",
       "      <td>2167.000000</td>\n",
       "    </tr>\n",
       "    <tr>\n",
       "      <th>mean</th>\n",
       "      <td>6222.101301</td>\n",
       "      <td>0.564451</td>\n",
       "    </tr>\n",
       "    <tr>\n",
       "      <th>std</th>\n",
       "      <td>3384.500134</td>\n",
       "      <td>0.080109</td>\n",
       "    </tr>\n",
       "    <tr>\n",
       "      <th>min</th>\n",
       "      <td>85.347657</td>\n",
       "      <td>0.328140</td>\n",
       "    </tr>\n",
       "    <tr>\n",
       "      <th>25%</th>\n",
       "      <td>3640.502580</td>\n",
       "      <td>0.515649</td>\n",
       "    </tr>\n",
       "    <tr>\n",
       "      <th>50%</th>\n",
       "      <td>6319.648654</td>\n",
       "      <td>0.562526</td>\n",
       "    </tr>\n",
       "    <tr>\n",
       "      <th>75%</th>\n",
       "      <td>8750.002090</td>\n",
       "      <td>0.609403</td>\n",
       "    </tr>\n",
       "    <tr>\n",
       "      <th>max</th>\n",
       "      <td>20794.217468</td>\n",
       "      <td>1.062549</td>\n",
       "    </tr>\n",
       "  </tbody>\n",
       "</table>\n",
       "</div>"
      ],
      "text/plain": [
       "               Time  Interbeat interval\n",
       "count   2167.000000         2167.000000\n",
       "mean    6222.101301            0.564451\n",
       "std     3384.500134            0.080109\n",
       "min       85.347657            0.328140\n",
       "25%     3640.502580            0.515649\n",
       "50%     6319.648654            0.562526\n",
       "75%     8750.002090            0.609403\n",
       "max    20794.217468            1.062549"
      ]
     },
     "execution_count": 335,
     "metadata": {},
     "output_type": "execute_result"
    }
   ],
   "source": [
    "ibi.describe()"
   ]
  },
  {
   "cell_type": "code",
   "execution_count": 336,
   "id": "5dae14eb",
   "metadata": {},
   "outputs": [
    {
     "data": {
      "image/png": "[encoded data removed]",
      "text/plain": [
       "<Figure size 640x480 with 1 Axes>"
      ]
     },
     "metadata": {},
     "output_type": "display_data"
    }
   ],
   "source": [
    "plt.plot(ibi.iloc[:,0], ibi.iloc[:,1], ds='steps')\n",
    "plt.xlabel('Time [s]')\n",
    "plt.ylabel('Interbeat interval')\n",
    "plt.show()"
   ]
  },
  {
   "cell_type": "markdown",
   "id": "42e7c375",
   "metadata": {},
   "source": [
    "# Temperatura (Celsius [°C])"
   ]
  },
  {
   "cell_type": "code",
   "execution_count": 378,
   "id": "564b13d6",
   "metadata": {},
   "outputs": [
    {
     "name": "stdout",
     "output_type": "stream",
     "text": [
      "Brzina uzorkovanja: 4.0 Hz\n"
     ]
    }
   ],
   "source": [
    "temp = pd.read_csv('Data/S1/Final/TEMP.csv') \n",
    "temp.columns = [\"Temperature[°C]\"]\n",
    "frequencyTEMP = temp._get_value(0, \"Temperature[°C]\")\n",
    "print(\"Brzina uzorkovanja: %.1f Hz\" % (frequencyTEMP))"
   ]
  },
  {
   "cell_type": "code",
   "execution_count": 379,
   "id": "275dc43d",
   "metadata": {},
   "outputs": [
    {
     "data": {
      "text/html": [
       "<div>\n",
       "<style scoped>\n",
       "    .dataframe tbody tr th:only-of-type {\n",
       "        vertical-align: middle;\n",
       "    }\n",
       "\n",
       "    .dataframe tbody tr th {\n",
       "        vertical-align: top;\n",
       "    }\n",
       "\n",
       "    .dataframe thead th {\n",
       "        text-align: right;\n",
       "    }\n",
       "</style>\n",
       "<table border=\"1\" class=\"dataframe\">\n",
       "  <thead>\n",
       "    <tr style=\"text-align: right;\">\n",
       "      <th></th>\n",
       "      <th>Temperature[°C]</th>\n",
       "    </tr>\n",
       "  </thead>\n",
       "  <tbody>\n",
       "    <tr>\n",
       "      <th>1</th>\n",
       "      <td>21.89</td>\n",
       "    </tr>\n",
       "    <tr>\n",
       "      <th>2</th>\n",
       "      <td>21.89</td>\n",
       "    </tr>\n",
       "    <tr>\n",
       "      <th>3</th>\n",
       "      <td>21.89</td>\n",
       "    </tr>\n",
       "    <tr>\n",
       "      <th>4</th>\n",
       "      <td>21.89</td>\n",
       "    </tr>\n",
       "    <tr>\n",
       "      <th>5</th>\n",
       "      <td>21.89</td>\n",
       "    </tr>\n",
       "  </tbody>\n",
       "</table>\n",
       "</div>"
      ],
      "text/plain": [
       "   Temperature[°C]\n",
       "1            21.89\n",
       "2            21.89\n",
       "3            21.89\n",
       "4            21.89\n",
       "5            21.89"
      ]
     },
     "execution_count": 379,
     "metadata": {},
     "output_type": "execute_result"
    }
   ],
   "source": [
    "temp = temp.drop(0)\n",
    "temp.head()"
   ]
  },
  {
   "cell_type": "code",
   "execution_count": 380,
   "id": "1ef2473c",
   "metadata": {},
   "outputs": [
    {
     "data": {
      "text/plain": [
       "(93584, 1)"
      ]
     },
     "execution_count": 380,
     "metadata": {},
     "output_type": "execute_result"
    }
   ],
   "source": [
    "temp.shape"
   ]
  },
  {
   "cell_type": "code",
   "execution_count": 381,
   "id": "850f61b9",
   "metadata": {},
   "outputs": [
    {
     "name": "stdout",
     "output_type": "stream",
     "text": [
      "<class 'pandas.core.frame.DataFrame'>\n",
      "RangeIndex: 93584 entries, 1 to 93584\n",
      "Data columns (total 1 columns):\n",
      " #   Column           Non-Null Count  Dtype  \n",
      "---  ------           --------------  -----  \n",
      " 0   Temperature[°C]  93584 non-null  float64\n",
      "dtypes: float64(1)\n",
      "memory usage: 731.3 KB\n"
     ]
    }
   ],
   "source": [
    "temp.info()"
   ]
  },
  {
   "cell_type": "code",
   "execution_count": 382,
   "id": "1ff86800",
   "metadata": {},
   "outputs": [
    {
     "data": {
      "text/html": [
       "<div>\n",
       "<style scoped>\n",
       "    .dataframe tbody tr th:only-of-type {\n",
       "        vertical-align: middle;\n",
       "    }\n",
       "\n",
       "    .dataframe tbody tr th {\n",
       "        vertical-align: top;\n",
       "    }\n",
       "\n",
       "    .dataframe thead th {\n",
       "        text-align: right;\n",
       "    }\n",
       "</style>\n",
       "<table border=\"1\" class=\"dataframe\">\n",
       "  <thead>\n",
       "    <tr style=\"text-align: right;\">\n",
       "      <th></th>\n",
       "      <th>Temperature[°C]</th>\n",
       "    </tr>\n",
       "  </thead>\n",
       "  <tbody>\n",
       "    <tr>\n",
       "      <th>count</th>\n",
       "      <td>93584.000000</td>\n",
       "    </tr>\n",
       "    <tr>\n",
       "      <th>mean</th>\n",
       "      <td>26.184411</td>\n",
       "    </tr>\n",
       "    <tr>\n",
       "      <th>std</th>\n",
       "      <td>3.849641</td>\n",
       "    </tr>\n",
       "    <tr>\n",
       "      <th>min</th>\n",
       "      <td>17.190000</td>\n",
       "    </tr>\n",
       "    <tr>\n",
       "      <th>25%</th>\n",
       "      <td>22.810000</td>\n",
       "    </tr>\n",
       "    <tr>\n",
       "      <th>50%</th>\n",
       "      <td>24.110000</td>\n",
       "    </tr>\n",
       "    <tr>\n",
       "      <th>75%</th>\n",
       "      <td>29.950000</td>\n",
       "    </tr>\n",
       "    <tr>\n",
       "      <th>max</th>\n",
       "      <td>31.210000</td>\n",
       "    </tr>\n",
       "  </tbody>\n",
       "</table>\n",
       "</div>"
      ],
      "text/plain": [
       "       Temperature[°C]\n",
       "count     93584.000000\n",
       "mean         26.184411\n",
       "std           3.849641\n",
       "min          17.190000\n",
       "25%          22.810000\n",
       "50%          24.110000\n",
       "75%          29.950000\n",
       "max          31.210000"
      ]
     },
     "execution_count": 382,
     "metadata": {},
     "output_type": "execute_result"
    }
   ],
   "source": [
    "temp.describe()"
   ]
  },
  {
   "cell_type": "markdown",
   "id": "3d0f5c07",
   "metadata": {},
   "source": [
    "Na linijskom grafu uočavamo kako je temperatura studenta rasla i padala tijekom ispita."
   ]
  },
  {
   "cell_type": "code",
   "execution_count": 383,
   "id": "bdf0935a",
   "metadata": {},
   "outputs": [
    {
     "data": {
      "image/png": "[encoded data removed]",
      "text/plain": [
       "<Figure size 640x480 with 1 Axes>"
      ]
     },
     "metadata": {},
     "output_type": "display_data"
    }
   ],
   "source": [
    "plt.plot([x for x in range(len(temp))], temp)\n",
    "plt.xlabel('Time')\n",
    "plt.ylabel('Temperature [°C]')\n",
    "plt.show()"
   ]
  }
 ],
 "metadata": {
  "kernelspec": {
   "display_name": "Python 3 (ipykernel)",
   "language": "python",
   "name": "python3"
  },
  "language_info": {
   "codemirror_mode": {
    "name": "ipython",
    "version": 3
   },
   "file_extension": ".py",
   "mimetype": "text/x-python",
   "name": "python",
   "nbconvert_exporter": "python",
   "pygments_lexer": "ipython3",
   "version": "3.9.13"
  }
 },
 "nbformat": 4,
 "nbformat_minor": 5
}
